{
  "nbformat": 4,
  "nbformat_minor": 0,
  "metadata": {
    "colab": {
      "name": "secondary_Stock_prices 관련 EDA 박진수.ipynb",
      "private_outputs": true,
      "provenance": [],
      "authorship_tag": "ABX9TyOf4i1bChJBaynnzIPwsoOF",
      "include_colab_link": true
    },
    "kernelspec": {
      "name": "python3",
      "display_name": "Python 3"
    },
    "language_info": {
      "name": "python"
    }
  },
  "cells": [
    {
      "cell_type": "markdown",
      "metadata": {
        "id": "view-in-github",
        "colab_type": "text"
      },
      "source": [
        "<a href=\"https://colab.research.google.com/github/jinsoo0604/tmp2/blob/main/secondary_Stock_prices_%EA%B4%80%EB%A0%A8_EDA_%EB%B0%95%EC%A7%84%EC%88%98.ipynb\" target=\"_parent\"><img src=\"https://colab.research.google.com/assets/colab-badge.svg\" alt=\"Open In Colab\"/></a>"
      ]
    },
    {
      "cell_type": "code",
      "execution_count": null,
      "metadata": {
        "id": "wdLtiA4qv0QL"
      },
      "outputs": [],
      "source": [
        "import numpy as np\n",
        "import pandas as pd\n",
        "import matplotlib as mpl\n",
        "import matplotlib.pyplot as plt\n",
        "import seaborn as sns\n",
        "from google.colab import drive\n",
        "drive.mount('/content/drive/')"
      ]
    },
    {
      "cell_type": "code",
      "source": [
        "dpath = '/content/drive/MyDrive/AI딥러닝_프로젝트/데이터/jpx-tokyo-stock-exchange-prediction/train_files/'\n",
        "df=pd.read_csv(dpath+'secondary_stock_prices.csv')\n",
        "df.head()"
      ],
      "metadata": {
        "id": "TIlzsECTv1ja"
      },
      "execution_count": null,
      "outputs": []
    },
    {
      "cell_type": "code",
      "source": [
        "df.info()"
      ],
      "metadata": {
        "id": "wyJgvs9IwGRX"
      },
      "execution_count": null,
      "outputs": []
    },
    {
      "cell_type": "code",
      "source": [
        "df.describe()"
      ],
      "metadata": {
        "id": "or5prG1zwLIX"
      },
      "execution_count": null,
      "outputs": []
    },
    {
      "cell_type": "code",
      "source": [
        "df.SecuritiesCode.value_counts()"
      ],
      "metadata": {
        "id": "rUZAjGVJX2JZ"
      },
      "execution_count": null,
      "outputs": []
    },
    {
      "cell_type": "code",
      "source": [
        "sns.heatmap(df.corr(method='pearson').round(2),annot=True);"
      ],
      "metadata": {
        "id": "XXVe0eNKwdDu"
      },
      "execution_count": null,
      "outputs": []
    },
    {
      "cell_type": "code",
      "source": [
        "for i in (list(df.columns[2:10])+[df.columns[11]]):\n",
        "    sns.histplot(x=str(i),data=df);\n",
        "    plt.show()"
      ],
      "metadata": {
        "id": "Keh9IO-G1bHx"
      },
      "execution_count": null,
      "outputs": []
    },
    {
      "cell_type": "code",
      "source": [
        "sns.pairplot(df[['SecuritiesCode','Open','High','Low','Close','Volume','AdjustmentFactor','ExpectedDividend','Target']],diag_kind='hist',corner=True);"
      ],
      "metadata": {
        "id": "pMMu0idlwhQ6"
      },
      "execution_count": null,
      "outputs": []
    },
    {
      "cell_type": "code",
      "source": [
        "df['year'] = pd.DatetimeIndex(df.Date).year\n",
        "df.groupby('year').Target.mean()"
      ],
      "metadata": {
        "id": "CPQccmq2wnCP"
      },
      "execution_count": null,
      "outputs": []
    },
    {
      "cell_type": "code",
      "source": [
        "sns.barplot(x='year',y='Target',data=df);"
      ],
      "metadata": {
        "id": "QBrVdMdkwpyx"
      },
      "execution_count": null,
      "outputs": []
    },
    {
      "cell_type": "code",
      "source": [
        "df['month'] = pd.DatetimeIndex(df.Date).month\n",
        "df.groupby('month').Target.mean()"
      ],
      "metadata": {
        "id": "ESlqrt7zemBn"
      },
      "execution_count": null,
      "outputs": []
    },
    {
      "cell_type": "code",
      "source": [
        "sns.barplot(x='month',y='Target',data=df);"
      ],
      "metadata": {
        "id": "rxH4bokseqn6"
      },
      "execution_count": null,
      "outputs": []
    },
    {
      "cell_type": "code",
      "source": [
        "sns.catplot(kind='bar',x='year',y='Target',data=df,hue='month');"
      ],
      "metadata": {
        "id": "D0ikRSwqeq8V"
      },
      "execution_count": null,
      "outputs": []
    },
    {
      "cell_type": "code",
      "source": [
        ""
      ],
      "metadata": {
        "id": "mdrgkst9e9eZ"
      },
      "execution_count": null,
      "outputs": []
    }
  ]
}